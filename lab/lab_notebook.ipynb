{
 "cells": [
  {
   "cell_type": "markdown",
   "metadata": {
    "id": "IU2Oe2lgy3XV"
   },
   "source": [
    "# Web Scraping\n",
    "\n",
    "Lots of great data is available online, but available through inconveniently formatted web pages. When this is the case, sometimes you can simply copy and paste the data into a .csv file and go on with your life. But if there are many records to parse and combine into a dataset, that might be impossible. Can we automate the collection of data from online sources?\n",
    "\n",
    "This is called web scraping. Broadly speaking: Web scraping is legal, but what you plan to do with the results of your scraping might not be. In general, most sites do not want you to scrape them at this point, but there is not really a way to stop you if you are sufficiently motivated. Be careful to use server resources respectfully (not too many requests per unit time), think seriously about privacy concerns, and be careful who you share your work with and how it is used.\n",
    "\n",
    "We'll be scraping data about used cars in Charlottesville from Craigslist, particularly this page: https://charlottesville.craigslist.org/search/cta?purveyor=owner#search=1~gallery~0~0 "
   ]
  },
  {
   "cell_type": "markdown",
   "metadata": {
    "id": "ui3HNFVXy3XX"
   },
   "source": [
    "We'll use the `requests` package to get web pages off the Internet and into Python. Again, we'll use a header with a user-agent that masks our true identity so that we're not rejected by the server. This particular url points to the car listings for Craigslist in Charlottesville. To use requests, you pass a `url` for the page you want and a `header` that controls how you appear to the server to `requests.get`:"
   ]
  },
  {
   "cell_type": "code",
   "execution_count": 76,
   "metadata": {
    "id": "bT63yifry3XX"
   },
   "outputs": [],
   "source": [
    "import numpy as np\n",
    "import matplotlib.pyplot as plt\n",
    "import pandas as pd\n",
    "import seaborn as sns\n",
    "\n",
    "import requests # Page requests\n",
    "\n",
    "header = {'User-Agent': 'Mozilla/5.0 (Windows NT 10.0; Win64; x64; rv:124.0) Gecko/20100101 Firefox/124.0'} # How we wish to appear to CL\n",
    "url = 'https://charlottesville.craigslist.org/search/cta?purveyor=owner#search=1~gallery~0~0' # The page we want to scrape\n",
    "raw = requests.get(url,headers=header) # Get page"
   ]
  },
  {
   "cell_type": "markdown",
   "metadata": {
    "id": "GS1XkRlXy3XX"
   },
   "source": [
    "Now that we have that particular page available locally, we want to **parse** it and get results from it. To do that, we can use a package called `beautifulSoup` or `bs4`.\n",
    "\n",
    "What does `beautifulSoup` do for us? Let's go to the web page of interest. You probably see something like this:\n",
    "\n",
    "![Listings](./src/craigslist.png \"Craigslist\")\n",
    "\n",
    "But if you \"view page source\" -- which is CTRL+U -- in Chrome, you see what the computer sees:\n",
    "\n",
    "![Listings](./src/craigslist_source.png \"Craigslist\")\n",
    "\n",
    "Since your web browser needs lots of instructions about how to render the text, pictures, and other content on your web page, there are a lot of clues about where the data live and how to extricate them from a page. These clues are called **tags**. If you wander the source for the search page on cars, you see a particular `class = \"cl-static-search-result\"` term appear attached to each listing:\n",
    "\n",
    "![Listings](./src/listing.png \"Craigslist\")\n",
    "\n",
    "This structure can be exploited to search the page for information. This kind of detective work -- looking at the page source, finding the interesting tags, and then searching the page with `beautifulSoup` -- is the basic job of web scraping.\n",
    "\n",
    "What I do is look at the rendered page, find the text I want and copy it, then search for that text in the HTML code that the computer sees. When I find the text I want, I look for the tag nearby. Here, it's `cl-static-search-result`: That's what I'll want beautifulSoup to search for."
   ]
  },
  {
   "cell_type": "markdown",
   "metadata": {
    "id": "fEO2NpZ8y3XY"
   },
   "source": [
    "The following code chunk takes the raw content from `requests` and turns it into a beautifulSoup object, which can search the page and return results for us:"
   ]
  },
  {
   "cell_type": "code",
   "execution_count": 78,
   "metadata": {
    "id": "lllobrYIy3XY"
   },
   "outputs": [],
   "source": [
    "from bs4 import BeautifulSoup as soup # HTML parser\n",
    "bsObj = soup(raw.content,'html.parser') # Parse the html\n",
    "listings = bsObj.find_all(class_=\"cl-static-search-result\") # Find all listings of the kind we want"
   ]
  },
  {
   "cell_type": "markdown",
   "metadata": {
    "id": "ymO8JbMmy3XY"
   },
   "source": [
    "Why is the argument `class_` and not just `class`? The word `class` is a reserved keyword for Python, and cannot be used by anyone else, similar to `True` and `False`. But since we want the `class = \"cl-static-search-result\"` terms, we need to use the `class_` argument to the `.find_all` method.\n",
    "\n",
    "The `.find_all` function dredges the entire page and finds all the instances of `class = \"cl-static-search-result\"`, resulting in a list of entries. We can then parse the entries.\n",
    "\n",
    "Parsing the entries can be a challenge! We have to go back to what a listing looks like, and look at the tags within the listing. They're typically `div` tags with a `class` like price or location. You then have to experiment a bit with `.find` and the HTML to make sure you're getting the information you want. For each listing, the `.find` method to search within the listing record for specific information, but it's typically still wrapped in the tag. To get the real information we want, we can then use `.get_text()`. I end up using a code chunk to experiment and play with a record to make sure I'm getting as close to what I want as possible.\n",
    "\n",
    "In the code below, two more things happen. You don't need to do them in your work, but they're helpful to know about.\n",
    "\n",
    "First, I would like to get the brand of the car from the post title, if possible. To do this, I split the title into words using `title.split()`, and then I use a list comprehension to look over every word in the title and check whether it appears in the `brands` list.\n",
    "\n",
    "Second, I would like to get the year the car was built, if possible, so I can determine the vehicle's age. To do this, I use a thing called **regular expressions** that provides a language for expressing patterns. Do I remember how to do this off the top of my head? No, I read a few pages in a book and looked on StackOverflow for answers. Roughly, in order to express the idea \"any year starting with 20xx,\" you can write `20[0-9][0-9]`, and for \"any year starting with 19xx,\" you can write `19[0-9][0-9]`. The `[0-9]`'s act as wildcards for any digit. This allows me to use the `re` package to find any instances of year-like numbers in the title text, using `re.search(r'20[0-9][0-9]|19[0-9][0-9]', title )`.\n",
    "\n",
    "This is all nested in a for-loop over the listings, and the data is appended to a list."
   ]
  },
  {
   "cell_type": "code",
   "execution_count": 80,
   "metadata": {
    "id": "jw-U4BA-y3XY"
   },
   "outputs": [],
   "source": [
    "import re # Regular expressions\n",
    "\n",
    "brands = ['honda', 'dodge','toyota','ford','tesla','gmc','jeep','bmw','mitsubishi','mazda',\n",
    "          'volvo','audi','volkswagen','chevy','chevrolet','acura','kia','subaru','lexus',\n",
    "          'cadillac','buick','porsche','infiniti']\n",
    "\n",
    "data = [] # We'll save our listings in this object\n",
    "for k in range( len(listings) ):\n",
    "    title = listings[k].find('div',class_='title').get_text().lower()\n",
    "    price = listings[k].find('div',class_='price').get_text()\n",
    "    link = listings[k].find(href=True)['href']\n",
    "    # Get brand from the title string:\n",
    "    words = title.split()\n",
    "    hits = [word for word in words if word in brands] # Find brands in the title\n",
    "    if len(hits) == 0:\n",
    "        brand = 'missing'\n",
    "    else:\n",
    "        brand = hits[0]\n",
    "    # Get years from title string:\n",
    "    regex_search = re.search(r'20[0-9][0-9]|19[0-9][0-9]', title ) # Find year references\n",
    "    if regex_search is None: # If no hits, record year as missing value\n",
    "        year = np.nan\n",
    "    else: # If hits, record year as first match\n",
    "        year = regex_search.group(0)\n",
    "    #\n",
    "    data.append({'title':title,'price':price,'year':year,'link':link,'brand':brand})"
   ]
  },
  {
   "cell_type": "markdown",
   "metadata": {
    "id": "Mz4zVi80y3XZ"
   },
   "source": [
    "\n",
    "With the data scraped from Craigslist, we can put it in a dataframe and wrangle it. Of course, price and year come in as text, not numbers, and need to be typecast/coerced:"
   ]
  },
  {
   "cell_type": "code",
   "execution_count": 82,
   "metadata": {
    "id": "KY1njgHcy3XZ",
    "outputId": "985126b7-e5e5-40c3-ba09-ed0b56625f69"
   },
   "outputs": [
    {
     "name": "stdout",
     "output_type": "stream",
     "text": [
      "(58, 6)\n"
     ]
    },
    {
     "data": {
      "text/html": [
       "<div>\n",
       "<style scoped>\n",
       "    .dataframe tbody tr th:only-of-type {\n",
       "        vertical-align: middle;\n",
       "    }\n",
       "\n",
       "    .dataframe tbody tr th {\n",
       "        vertical-align: top;\n",
       "    }\n",
       "\n",
       "    .dataframe thead th {\n",
       "        text-align: right;\n",
       "    }\n",
       "</style>\n",
       "<table border=\"1\" class=\"dataframe\">\n",
       "  <thead>\n",
       "    <tr style=\"text-align: right;\">\n",
       "      <th></th>\n",
       "      <th>title</th>\n",
       "      <th>price</th>\n",
       "      <th>year</th>\n",
       "      <th>link</th>\n",
       "      <th>brand</th>\n",
       "      <th>age</th>\n",
       "    </tr>\n",
       "  </thead>\n",
       "  <tbody>\n",
       "    <tr>\n",
       "      <th>0</th>\n",
       "      <td>2009 honda fit sport</td>\n",
       "      <td>3400</td>\n",
       "      <td>2009.0</td>\n",
       "      <td>https://charlottesville.craigslist.org/cto/d/c...</td>\n",
       "      <td>honda</td>\n",
       "      <td>16.0</td>\n",
       "    </tr>\n",
       "    <tr>\n",
       "      <th>1</th>\n",
       "      <td>2014 chrysler town &amp; country</td>\n",
       "      <td>6000</td>\n",
       "      <td>2014.0</td>\n",
       "      <td>https://charlottesville.craigslist.org/cto/d/w...</td>\n",
       "      <td>missing</td>\n",
       "      <td>11.0</td>\n",
       "    </tr>\n",
       "    <tr>\n",
       "      <th>2</th>\n",
       "      <td>2001 mercedes e320</td>\n",
       "      <td>2000</td>\n",
       "      <td>2001.0</td>\n",
       "      <td>https://charlottesville.craigslist.org/cto/d/s...</td>\n",
       "      <td>missing</td>\n",
       "      <td>24.0</td>\n",
       "    </tr>\n",
       "    <tr>\n",
       "      <th>3</th>\n",
       "      <td>2012 honda civic lx</td>\n",
       "      <td>5900</td>\n",
       "      <td>2012.0</td>\n",
       "      <td>https://charlottesville.craigslist.org/cto/d/h...</td>\n",
       "      <td>honda</td>\n",
       "      <td>13.0</td>\n",
       "    </tr>\n",
       "    <tr>\n",
       "      <th>4</th>\n",
       "      <td>toyota camry 2008</td>\n",
       "      <td>3000</td>\n",
       "      <td>2008.0</td>\n",
       "      <td>https://charlottesville.craigslist.org/cto/d/s...</td>\n",
       "      <td>toyota</td>\n",
       "      <td>17.0</td>\n",
       "    </tr>\n",
       "  </tbody>\n",
       "</table>\n",
       "</div>"
      ],
      "text/plain": [
       "                          title  price    year  \\\n",
       "0          2009 honda fit sport   3400  2009.0   \n",
       "1  2014 chrysler town & country   6000  2014.0   \n",
       "2            2001 mercedes e320   2000  2001.0   \n",
       "3           2012 honda civic lx   5900  2012.0   \n",
       "4             toyota camry 2008   3000  2008.0   \n",
       "\n",
       "                                                link    brand   age  \n",
       "0  https://charlottesville.craigslist.org/cto/d/c...    honda  16.0  \n",
       "1  https://charlottesville.craigslist.org/cto/d/w...  missing  11.0  \n",
       "2  https://charlottesville.craigslist.org/cto/d/s...  missing  24.0  \n",
       "3  https://charlottesville.craigslist.org/cto/d/h...    honda  13.0  \n",
       "4  https://charlottesville.craigslist.org/cto/d/s...   toyota  17.0  "
      ]
     },
     "execution_count": 82,
     "metadata": {},
     "output_type": "execute_result"
    }
   ],
   "source": [
    "## Wrangle the data\n",
    "df = pd.DataFrame.from_dict(data)\n",
    "df['price'] = df['price'].str.replace('$','')\n",
    "df['price'] = df['price'].str.replace(',','')\n",
    "df['price'] = pd.to_numeric(df['price'],errors='coerce')\n",
    "df['year'] = pd.to_numeric(df['year'],errors='coerce')\n",
    "df['age'] = 2025-df['year']\n",
    "print(df.shape)\n",
    "df.to_csv('./src/craigslist_cville_cars.csv') # Save data in case of a disaster\n",
    "df.head()"
   ]
  },
  {
   "cell_type": "markdown",
   "metadata": {
    "id": "YBcg4XUoy3XZ"
   },
   "source": [
    "With the data in and wrangled, we can now do some analysis:"
   ]
  },
  {
   "cell_type": "code",
   "execution_count": 84,
   "metadata": {
    "id": "qBMwX_rFy3XZ",
    "outputId": "9abfa7a7-f4fb-4563-c0f6-531f74310c3e"
   },
   "outputs": [
    {
     "name": "stdout",
     "output_type": "stream",
     "text": [
      "count       58.000000\n",
      "mean      9981.017241\n",
      "std      10982.225752\n",
      "min       2000.000000\n",
      "25%       3500.000000\n",
      "50%       6500.000000\n",
      "75%      10987.500000\n",
      "max      62800.000000\n",
      "Name: price, dtype: float64\n"
     ]
    },
    {
     "data": {
      "image/png": "[encoded data removed]",
      "text/plain": [
       "<Figure size 640x480 with 1 Axes>"
      ]
     },
     "metadata": {},
     "output_type": "display_data"
    },
    {
     "name": "stdout",
     "output_type": "stream",
     "text": [
      "count    54.000000\n",
      "mean     20.685185\n",
      "std      13.708315\n",
      "min       4.000000\n",
      "25%      12.250000\n",
      "50%      17.000000\n",
      "75%      22.000000\n",
      "max      68.000000\n",
      "Name: age, dtype: float64\n"
     ]
    },
    {
     "data": {
      "image/png": "[encoded data removed]",
      "text/plain": [
       "<Figure size 640x480 with 1 Axes>"
      ]
     },
     "metadata": {},
     "output_type": "display_data"
    }
   ],
   "source": [
    "print(df['price'].describe())\n",
    "df['price'].hist(grid=False)\n",
    "plt.show()\n",
    "print(df['age'].describe())\n",
    "df['age'].hist(grid=False)\n",
    "plt.show()"
   ]
  },
  {
   "cell_type": "code",
   "execution_count": 18,
   "metadata": {
    "id": "xsJPUF2wy3XZ",
    "outputId": "9a613e49-3b2b-4214-9ae3-9a5f0986ff6e"
   },
   "outputs": [
    {
     "data": {
      "text/html": [
       "<div>\n",
       "<style scoped>\n",
       "    .dataframe tbody tr th:only-of-type {\n",
       "        vertical-align: middle;\n",
       "    }\n",
       "\n",
       "    .dataframe tbody tr th {\n",
       "        vertical-align: top;\n",
       "    }\n",
       "\n",
       "    .dataframe thead tr th {\n",
       "        text-align: left;\n",
       "    }\n",
       "\n",
       "    .dataframe thead tr:last-of-type th {\n",
       "        text-align: right;\n",
       "    }\n",
       "</style>\n",
       "<table border=\"1\" class=\"dataframe\">\n",
       "  <thead>\n",
       "    <tr>\n",
       "      <th></th>\n",
       "      <th colspan=\"8\" halign=\"left\">price</th>\n",
       "    </tr>\n",
       "    <tr>\n",
       "      <th></th>\n",
       "      <th>count</th>\n",
       "      <th>mean</th>\n",
       "      <th>std</th>\n",
       "      <th>min</th>\n",
       "      <th>25%</th>\n",
       "      <th>50%</th>\n",
       "      <th>75%</th>\n",
       "      <th>max</th>\n",
       "    </tr>\n",
       "    <tr>\n",
       "      <th>brand</th>\n",
       "      <th></th>\n",
       "      <th></th>\n",
       "      <th></th>\n",
       "      <th></th>\n",
       "      <th></th>\n",
       "      <th></th>\n",
       "      <th></th>\n",
       "      <th></th>\n",
       "    </tr>\n",
       "  </thead>\n",
       "  <tbody>\n",
       "    <tr>\n",
       "      <th>acura</th>\n",
       "      <td>2.0</td>\n",
       "      <td>5250.000000</td>\n",
       "      <td>3181.980515</td>\n",
       "      <td>3000.0</td>\n",
       "      <td>4125.0</td>\n",
       "      <td>5250.0</td>\n",
       "      <td>6375.0</td>\n",
       "      <td>7500.0</td>\n",
       "    </tr>\n",
       "    <tr>\n",
       "      <th>audi</th>\n",
       "      <td>1.0</td>\n",
       "      <td>11000.000000</td>\n",
       "      <td>NaN</td>\n",
       "      <td>11000.0</td>\n",
       "      <td>11000.0</td>\n",
       "      <td>11000.0</td>\n",
       "      <td>11000.0</td>\n",
       "      <td>11000.0</td>\n",
       "    </tr>\n",
       "    <tr>\n",
       "      <th>bmw</th>\n",
       "      <td>2.0</td>\n",
       "      <td>8750.000000</td>\n",
       "      <td>1767.766953</td>\n",
       "      <td>7500.0</td>\n",
       "      <td>8125.0</td>\n",
       "      <td>8750.0</td>\n",
       "      <td>9375.0</td>\n",
       "      <td>10000.0</td>\n",
       "    </tr>\n",
       "    <tr>\n",
       "      <th>chevrolet</th>\n",
       "      <td>1.0</td>\n",
       "      <td>14500.000000</td>\n",
       "      <td>NaN</td>\n",
       "      <td>14500.0</td>\n",
       "      <td>14500.0</td>\n",
       "      <td>14500.0</td>\n",
       "      <td>14500.0</td>\n",
       "      <td>14500.0</td>\n",
       "    </tr>\n",
       "    <tr>\n",
       "      <th>chevy</th>\n",
       "      <td>2.0</td>\n",
       "      <td>2950.000000</td>\n",
       "      <td>70.710678</td>\n",
       "      <td>2900.0</td>\n",
       "      <td>2925.0</td>\n",
       "      <td>2950.0</td>\n",
       "      <td>2975.0</td>\n",
       "      <td>3000.0</td>\n",
       "    </tr>\n",
       "    <tr>\n",
       "      <th>dodge</th>\n",
       "      <td>2.0</td>\n",
       "      <td>6875.000000</td>\n",
       "      <td>4065.863992</td>\n",
       "      <td>4000.0</td>\n",
       "      <td>5437.5</td>\n",
       "      <td>6875.0</td>\n",
       "      <td>8312.5</td>\n",
       "      <td>9750.0</td>\n",
       "    </tr>\n",
       "    <tr>\n",
       "      <th>ford</th>\n",
       "      <td>7.0</td>\n",
       "      <td>17142.857143</td>\n",
       "      <td>15258.096992</td>\n",
       "      <td>4000.0</td>\n",
       "      <td>8250.0</td>\n",
       "      <td>13500.0</td>\n",
       "      <td>18250.0</td>\n",
       "      <td>49500.0</td>\n",
       "    </tr>\n",
       "    <tr>\n",
       "      <th>gmc</th>\n",
       "      <td>2.0</td>\n",
       "      <td>16500.000000</td>\n",
       "      <td>13435.028843</td>\n",
       "      <td>7000.0</td>\n",
       "      <td>11750.0</td>\n",
       "      <td>16500.0</td>\n",
       "      <td>21250.0</td>\n",
       "      <td>26000.0</td>\n",
       "    </tr>\n",
       "    <tr>\n",
       "      <th>honda</th>\n",
       "      <td>9.0</td>\n",
       "      <td>9711.111111</td>\n",
       "      <td>8211.035934</td>\n",
       "      <td>3000.0</td>\n",
       "      <td>4700.0</td>\n",
       "      <td>6500.0</td>\n",
       "      <td>13000.0</td>\n",
       "      <td>29000.0</td>\n",
       "    </tr>\n",
       "    <tr>\n",
       "      <th>jeep</th>\n",
       "      <td>3.0</td>\n",
       "      <td>7900.000000</td>\n",
       "      <td>1429.160593</td>\n",
       "      <td>6250.0</td>\n",
       "      <td>7475.0</td>\n",
       "      <td>8700.0</td>\n",
       "      <td>8725.0</td>\n",
       "      <td>8750.0</td>\n",
       "    </tr>\n",
       "    <tr>\n",
       "      <th>kia</th>\n",
       "      <td>1.0</td>\n",
       "      <td>2500.000000</td>\n",
       "      <td>NaN</td>\n",
       "      <td>2500.0</td>\n",
       "      <td>2500.0</td>\n",
       "      <td>2500.0</td>\n",
       "      <td>2500.0</td>\n",
       "      <td>2500.0</td>\n",
       "    </tr>\n",
       "    <tr>\n",
       "      <th>lexus</th>\n",
       "      <td>2.0</td>\n",
       "      <td>11175.000000</td>\n",
       "      <td>318.198052</td>\n",
       "      <td>10950.0</td>\n",
       "      <td>11062.5</td>\n",
       "      <td>11175.0</td>\n",
       "      <td>11287.5</td>\n",
       "      <td>11400.0</td>\n",
       "    </tr>\n",
       "    <tr>\n",
       "      <th>missing</th>\n",
       "      <td>15.0</td>\n",
       "      <td>8973.266667</td>\n",
       "      <td>15819.353610</td>\n",
       "      <td>2000.0</td>\n",
       "      <td>3225.0</td>\n",
       "      <td>3500.0</td>\n",
       "      <td>5124.5</td>\n",
       "      <td>62800.0</td>\n",
       "    </tr>\n",
       "    <tr>\n",
       "      <th>mitsubishi</th>\n",
       "      <td>1.0</td>\n",
       "      <td>6800.000000</td>\n",
       "      <td>NaN</td>\n",
       "      <td>6800.0</td>\n",
       "      <td>6800.0</td>\n",
       "      <td>6800.0</td>\n",
       "      <td>6800.0</td>\n",
       "      <td>6800.0</td>\n",
       "    </tr>\n",
       "    <tr>\n",
       "      <th>tesla</th>\n",
       "      <td>1.0</td>\n",
       "      <td>26900.000000</td>\n",
       "      <td>NaN</td>\n",
       "      <td>26900.0</td>\n",
       "      <td>26900.0</td>\n",
       "      <td>26900.0</td>\n",
       "      <td>26900.0</td>\n",
       "      <td>26900.0</td>\n",
       "    </tr>\n",
       "    <tr>\n",
       "      <th>toyota</th>\n",
       "      <td>5.0</td>\n",
       "      <td>7880.000000</td>\n",
       "      <td>5392.309338</td>\n",
       "      <td>3000.0</td>\n",
       "      <td>4500.0</td>\n",
       "      <td>5200.0</td>\n",
       "      <td>10700.0</td>\n",
       "      <td>16000.0</td>\n",
       "    </tr>\n",
       "    <tr>\n",
       "      <th>volkswagen</th>\n",
       "      <td>2.0</td>\n",
       "      <td>4550.000000</td>\n",
       "      <td>2757.716447</td>\n",
       "      <td>2600.0</td>\n",
       "      <td>3575.0</td>\n",
       "      <td>4550.0</td>\n",
       "      <td>5525.0</td>\n",
       "      <td>6500.0</td>\n",
       "    </tr>\n",
       "  </tbody>\n",
       "</table>\n",
       "</div>"
      ],
      "text/plain": [
       "           price                                                         \\\n",
       "           count          mean           std      min      25%      50%   \n",
       "brand                                                                     \n",
       "acura        2.0   5250.000000   3181.980515   3000.0   4125.0   5250.0   \n",
       "audi         1.0  11000.000000           NaN  11000.0  11000.0  11000.0   \n",
       "bmw          2.0   8750.000000   1767.766953   7500.0   8125.0   8750.0   \n",
       "chevrolet    1.0  14500.000000           NaN  14500.0  14500.0  14500.0   \n",
       "chevy        2.0   2950.000000     70.710678   2900.0   2925.0   2950.0   \n",
       "dodge        2.0   6875.000000   4065.863992   4000.0   5437.5   6875.0   \n",
       "ford         7.0  17142.857143  15258.096992   4000.0   8250.0  13500.0   \n",
       "gmc          2.0  16500.000000  13435.028843   7000.0  11750.0  16500.0   \n",
       "honda        9.0   9711.111111   8211.035934   3000.0   4700.0   6500.0   \n",
       "jeep         3.0   7900.000000   1429.160593   6250.0   7475.0   8700.0   \n",
       "kia          1.0   2500.000000           NaN   2500.0   2500.0   2500.0   \n",
       "lexus        2.0  11175.000000    318.198052  10950.0  11062.5  11175.0   \n",
       "missing     15.0   8973.266667  15819.353610   2000.0   3225.0   3500.0   \n",
       "mitsubishi   1.0   6800.000000           NaN   6800.0   6800.0   6800.0   \n",
       "tesla        1.0  26900.000000           NaN  26900.0  26900.0  26900.0   \n",
       "toyota       5.0   7880.000000   5392.309338   3000.0   4500.0   5200.0   \n",
       "volkswagen   2.0   4550.000000   2757.716447   2600.0   3575.0   4550.0   \n",
       "\n",
       "                              \n",
       "                75%      max  \n",
       "brand                         \n",
       "acura        6375.0   7500.0  \n",
       "audi        11000.0  11000.0  \n",
       "bmw          9375.0  10000.0  \n",
       "chevrolet   14500.0  14500.0  \n",
       "chevy        2975.0   3000.0  \n",
       "dodge        8312.5   9750.0  \n",
       "ford        18250.0  49500.0  \n",
       "gmc         21250.0  26000.0  \n",
       "honda       13000.0  29000.0  \n",
       "jeep         8725.0   8750.0  \n",
       "kia          2500.0   2500.0  \n",
       "lexus       11287.5  11400.0  \n",
       "missing      5124.5  62800.0  \n",
       "mitsubishi   6800.0   6800.0  \n",
       "tesla       26900.0  26900.0  \n",
       "toyota      10700.0  16000.0  \n",
       "volkswagen   5525.0   6500.0  "
      ]
     },
     "execution_count": 18,
     "metadata": {},
     "output_type": "execute_result"
    }
   ],
   "source": [
    "# Price by brand:\n",
    "df.loc[:,['price','brand']].groupby('brand').describe()"
   ]
  },
  {
   "cell_type": "code",
   "execution_count": 19,
   "metadata": {
    "id": "XP4Q0dIdy3Xa",
    "outputId": "883e5889-5d9f-472b-d686-12a257490c23"
   },
   "outputs": [
    {
     "data": {
      "text/html": [
       "<div>\n",
       "<style scoped>\n",
       "    .dataframe tbody tr th:only-of-type {\n",
       "        vertical-align: middle;\n",
       "    }\n",
       "\n",
       "    .dataframe tbody tr th {\n",
       "        vertical-align: top;\n",
       "    }\n",
       "\n",
       "    .dataframe thead tr th {\n",
       "        text-align: left;\n",
       "    }\n",
       "\n",
       "    .dataframe thead tr:last-of-type th {\n",
       "        text-align: right;\n",
       "    }\n",
       "</style>\n",
       "<table border=\"1\" class=\"dataframe\">\n",
       "  <thead>\n",
       "    <tr>\n",
       "      <th></th>\n",
       "      <th colspan=\"8\" halign=\"left\">age</th>\n",
       "    </tr>\n",
       "    <tr>\n",
       "      <th></th>\n",
       "      <th>count</th>\n",
       "      <th>mean</th>\n",
       "      <th>std</th>\n",
       "      <th>min</th>\n",
       "      <th>25%</th>\n",
       "      <th>50%</th>\n",
       "      <th>75%</th>\n",
       "      <th>max</th>\n",
       "    </tr>\n",
       "    <tr>\n",
       "      <th>brand</th>\n",
       "      <th></th>\n",
       "      <th></th>\n",
       "      <th></th>\n",
       "      <th></th>\n",
       "      <th></th>\n",
       "      <th></th>\n",
       "      <th></th>\n",
       "      <th></th>\n",
       "    </tr>\n",
       "  </thead>\n",
       "  <tbody>\n",
       "    <tr>\n",
       "      <th>acura</th>\n",
       "      <td>2.0</td>\n",
       "      <td>15.000000</td>\n",
       "      <td>5.656854</td>\n",
       "      <td>11.0</td>\n",
       "      <td>13.00</td>\n",
       "      <td>15.0</td>\n",
       "      <td>17.00</td>\n",
       "      <td>19.0</td>\n",
       "    </tr>\n",
       "    <tr>\n",
       "      <th>audi</th>\n",
       "      <td>1.0</td>\n",
       "      <td>8.000000</td>\n",
       "      <td>NaN</td>\n",
       "      <td>8.0</td>\n",
       "      <td>8.00</td>\n",
       "      <td>8.0</td>\n",
       "      <td>8.00</td>\n",
       "      <td>8.0</td>\n",
       "    </tr>\n",
       "    <tr>\n",
       "      <th>bmw</th>\n",
       "      <td>2.0</td>\n",
       "      <td>16.500000</td>\n",
       "      <td>0.707107</td>\n",
       "      <td>16.0</td>\n",
       "      <td>16.25</td>\n",
       "      <td>16.5</td>\n",
       "      <td>16.75</td>\n",
       "      <td>17.0</td>\n",
       "    </tr>\n",
       "    <tr>\n",
       "      <th>chevrolet</th>\n",
       "      <td>1.0</td>\n",
       "      <td>36.000000</td>\n",
       "      <td>NaN</td>\n",
       "      <td>36.0</td>\n",
       "      <td>36.00</td>\n",
       "      <td>36.0</td>\n",
       "      <td>36.00</td>\n",
       "      <td>36.0</td>\n",
       "    </tr>\n",
       "    <tr>\n",
       "      <th>chevy</th>\n",
       "      <td>1.0</td>\n",
       "      <td>21.000000</td>\n",
       "      <td>NaN</td>\n",
       "      <td>21.0</td>\n",
       "      <td>21.00</td>\n",
       "      <td>21.0</td>\n",
       "      <td>21.00</td>\n",
       "      <td>21.0</td>\n",
       "    </tr>\n",
       "    <tr>\n",
       "      <th>dodge</th>\n",
       "      <td>2.0</td>\n",
       "      <td>26.500000</td>\n",
       "      <td>6.363961</td>\n",
       "      <td>22.0</td>\n",
       "      <td>24.25</td>\n",
       "      <td>26.5</td>\n",
       "      <td>28.75</td>\n",
       "      <td>31.0</td>\n",
       "    </tr>\n",
       "    <tr>\n",
       "      <th>ford</th>\n",
       "      <td>7.0</td>\n",
       "      <td>18.000000</td>\n",
       "      <td>8.485281</td>\n",
       "      <td>8.0</td>\n",
       "      <td>12.00</td>\n",
       "      <td>17.0</td>\n",
       "      <td>22.00</td>\n",
       "      <td>33.0</td>\n",
       "    </tr>\n",
       "    <tr>\n",
       "      <th>gmc</th>\n",
       "      <td>1.0</td>\n",
       "      <td>41.000000</td>\n",
       "      <td>NaN</td>\n",
       "      <td>41.0</td>\n",
       "      <td>41.00</td>\n",
       "      <td>41.0</td>\n",
       "      <td>41.00</td>\n",
       "      <td>41.0</td>\n",
       "    </tr>\n",
       "    <tr>\n",
       "      <th>honda</th>\n",
       "      <td>9.0</td>\n",
       "      <td>12.555556</td>\n",
       "      <td>4.503085</td>\n",
       "      <td>4.0</td>\n",
       "      <td>11.00</td>\n",
       "      <td>13.0</td>\n",
       "      <td>15.00</td>\n",
       "      <td>19.0</td>\n",
       "    </tr>\n",
       "    <tr>\n",
       "      <th>jeep</th>\n",
       "      <td>3.0</td>\n",
       "      <td>14.333333</td>\n",
       "      <td>3.214550</td>\n",
       "      <td>12.0</td>\n",
       "      <td>12.50</td>\n",
       "      <td>13.0</td>\n",
       "      <td>15.50</td>\n",
       "      <td>18.0</td>\n",
       "    </tr>\n",
       "    <tr>\n",
       "      <th>kia</th>\n",
       "      <td>1.0</td>\n",
       "      <td>17.000000</td>\n",
       "      <td>NaN</td>\n",
       "      <td>17.0</td>\n",
       "      <td>17.00</td>\n",
       "      <td>17.0</td>\n",
       "      <td>17.00</td>\n",
       "      <td>17.0</td>\n",
       "    </tr>\n",
       "    <tr>\n",
       "      <th>lexus</th>\n",
       "      <td>2.0</td>\n",
       "      <td>17.000000</td>\n",
       "      <td>5.656854</td>\n",
       "      <td>13.0</td>\n",
       "      <td>15.00</td>\n",
       "      <td>17.0</td>\n",
       "      <td>19.00</td>\n",
       "      <td>21.0</td>\n",
       "    </tr>\n",
       "    <tr>\n",
       "      <th>missing</th>\n",
       "      <td>13.0</td>\n",
       "      <td>29.230769</td>\n",
       "      <td>21.680075</td>\n",
       "      <td>7.0</td>\n",
       "      <td>13.00</td>\n",
       "      <td>21.0</td>\n",
       "      <td>36.00</td>\n",
       "      <td>68.0</td>\n",
       "    </tr>\n",
       "    <tr>\n",
       "      <th>mitsubishi</th>\n",
       "      <td>1.0</td>\n",
       "      <td>17.000000</td>\n",
       "      <td>NaN</td>\n",
       "      <td>17.0</td>\n",
       "      <td>17.00</td>\n",
       "      <td>17.0</td>\n",
       "      <td>17.00</td>\n",
       "      <td>17.0</td>\n",
       "    </tr>\n",
       "    <tr>\n",
       "      <th>tesla</th>\n",
       "      <td>1.0</td>\n",
       "      <td>7.000000</td>\n",
       "      <td>NaN</td>\n",
       "      <td>7.0</td>\n",
       "      <td>7.00</td>\n",
       "      <td>7.0</td>\n",
       "      <td>7.00</td>\n",
       "      <td>7.0</td>\n",
       "    </tr>\n",
       "    <tr>\n",
       "      <th>toyota</th>\n",
       "      <td>5.0</td>\n",
       "      <td>18.400000</td>\n",
       "      <td>4.878524</td>\n",
       "      <td>12.0</td>\n",
       "      <td>17.00</td>\n",
       "      <td>17.0</td>\n",
       "      <td>21.00</td>\n",
       "      <td>25.0</td>\n",
       "    </tr>\n",
       "    <tr>\n",
       "      <th>volkswagen</th>\n",
       "      <td>2.0</td>\n",
       "      <td>33.000000</td>\n",
       "      <td>15.556349</td>\n",
       "      <td>22.0</td>\n",
       "      <td>27.50</td>\n",
       "      <td>33.0</td>\n",
       "      <td>38.50</td>\n",
       "      <td>44.0</td>\n",
       "    </tr>\n",
       "  </tbody>\n",
       "</table>\n",
       "</div>"
      ],
      "text/plain": [
       "             age                                                      \n",
       "           count       mean        std   min    25%   50%    75%   max\n",
       "brand                                                                 \n",
       "acura        2.0  15.000000   5.656854  11.0  13.00  15.0  17.00  19.0\n",
       "audi         1.0   8.000000        NaN   8.0   8.00   8.0   8.00   8.0\n",
       "bmw          2.0  16.500000   0.707107  16.0  16.25  16.5  16.75  17.0\n",
       "chevrolet    1.0  36.000000        NaN  36.0  36.00  36.0  36.00  36.0\n",
       "chevy        1.0  21.000000        NaN  21.0  21.00  21.0  21.00  21.0\n",
       "dodge        2.0  26.500000   6.363961  22.0  24.25  26.5  28.75  31.0\n",
       "ford         7.0  18.000000   8.485281   8.0  12.00  17.0  22.00  33.0\n",
       "gmc          1.0  41.000000        NaN  41.0  41.00  41.0  41.00  41.0\n",
       "honda        9.0  12.555556   4.503085   4.0  11.00  13.0  15.00  19.0\n",
       "jeep         3.0  14.333333   3.214550  12.0  12.50  13.0  15.50  18.0\n",
       "kia          1.0  17.000000        NaN  17.0  17.00  17.0  17.00  17.0\n",
       "lexus        2.0  17.000000   5.656854  13.0  15.00  17.0  19.00  21.0\n",
       "missing     13.0  29.230769  21.680075   7.0  13.00  21.0  36.00  68.0\n",
       "mitsubishi   1.0  17.000000        NaN  17.0  17.00  17.0  17.00  17.0\n",
       "tesla        1.0   7.000000        NaN   7.0   7.00   7.0   7.00   7.0\n",
       "toyota       5.0  18.400000   4.878524  12.0  17.00  17.0  21.00  25.0\n",
       "volkswagen   2.0  33.000000  15.556349  22.0  27.50  33.0  38.50  44.0"
      ]
     },
     "execution_count": 19,
     "metadata": {},
     "output_type": "execute_result"
    }
   ],
   "source": [
    "# Age by brand:\n",
    "df.loc[:,['age','brand']].groupby('brand').describe()"
   ]
  },
  {
   "cell_type": "code",
   "execution_count": 20,
   "metadata": {
    "id": "lHypfI-py3Xa",
    "outputId": "1f24c08e-e5d6-4f60-a944-e1760c3fd51d"
   },
   "outputs": [
    {
     "data": {
      "image/png": "[encoded data removed]",
      "text/plain": [
       "<Figure size 640x480 with 1 Axes>"
      ]
     },
     "metadata": {},
     "output_type": "display_data"
    }
   ],
   "source": [
    "ax = sns.scatterplot(data=df, x='age', y='price',hue='brand')\n",
    "sns.move_legend(ax, \"upper left\", bbox_to_anchor=(1, 1))"
   ]
  },
  {
   "cell_type": "code",
   "execution_count": 21,
   "metadata": {
    "id": "LzFhDn50y3Xa",
    "outputId": "bd26a020-f944-4b07-f98f-40a64db9d94d"
   },
   "outputs": [
    {
     "name": "stdout",
     "output_type": "stream",
     "text": [
      "           log_price   log_age\n",
      "log_price   0.631127 -0.160235\n",
      "log_age    -0.160235  0.322326\n",
      "           log_price   log_age\n",
      "log_price   1.000000 -0.365452\n",
      "log_age    -0.365452  1.000000\n"
     ]
    },
    {
     "data": {
      "image/png": "[encoded data removed]",
      "text/plain": [
       "<Figure size 640x480 with 1 Axes>"
      ]
     },
     "metadata": {},
     "output_type": "display_data"
    }
   ],
   "source": [
    "df['log_price'] = np.log(df['price'])\n",
    "df['log_age'] = np.log(df['age'])\n",
    "\n",
    "ax = sns.scatterplot(data=df, x='log_age', y='log_price',hue='brand')\n",
    "sns.move_legend(ax, \"upper left\", bbox_to_anchor=(1, 1))\n",
    "\n",
    "print(df.loc[:,['log_price','log_age']].cov())\n",
    "print(df.loc[:,['log_price','log_age']].corr())"
   ]
  },
  {
   "cell_type": "markdown",
   "metadata": {},
   "source": [
    "## The Lab:\n",
    "\n",
    "\n",
    "1. Pick something else on Craigslist besides used cars: Musical instruments, roommates, antiques, etc. Look at the search page and its source code. Record which fields/data you would like to gather, and what kinds of basic EDA you'd do with it.\n",
    "2. Get your search results of interest using `requests` and extract data from them using `beautifulSoup`, using code similar to what's above.\n",
    "3. Wrangle your data into a dataframe and do some basic descriptions and plots. Try to find some interesting relationships or stories to tell about your data."
   ]
  },
  {
   "cell_type": "code",
   "execution_count": 86,
   "metadata": {},
   "outputs": [],
   "source": [
    "import numpy as np\n",
    "import matplotlib.pyplot as plt\n",
    "import pandas as pd\n",
    "import seaborn as sns\n",
    "import requests\n",
    "from bs4 import BeautifulSoup as soup\n",
    "import re\n",
    "\n",
    "#Make plots a bit prettier:\n",
    "sns.set_theme()\n"
   ]
  },
  {
   "cell_type": "code",
   "execution_count": 116,
   "metadata": {},
   "outputs": [
    {
     "name": "stdout",
     "output_type": "stream",
     "text": [
      "Status code: 200\n"
     ]
    }
   ],
   "source": [
    "header = {\n",
    "    'User-Agent': 'Mozilla/5.0 (Windows NT 10.0; Win64; x64; rv:124.0) Gecko/20100101 Firefox/124.0'\n",
    "}\n",
    "url = 'https://charlottesville.craigslist.org/search/msg?purveyor=owner'\n",
    "raw = requests.get(url, headers=header)\n",
    "print(\"Status code:\", raw.status_code)\n"
   ]
  },
  {
   "cell_type": "code",
   "execution_count": 118,
   "metadata": {},
   "outputs": [
    {
     "name": "stdout",
     "output_type": "stream",
     "text": [
      "Found 127 listings.\n"
     ]
    }
   ],
   "source": [
    "bsObj = soup(raw.content, 'html.parser')\n",
    "\n",
    "listings = bsObj.find_all(class_=\"cl-static-search-result\")\n",
    "\n",
    "print(f\"Found {len(listings)} listings.\")\n"
   ]
  },
  {
   "cell_type": "code",
   "execution_count": 120,
   "metadata": {},
   "outputs": [
    {
     "name": "stdout",
     "output_type": "stream",
     "text": [
      "Scraped records: 127\n"
     ]
    }
   ],
   "source": [
    "#Some common musical instrument \"brands\"\n",
    "brands = [\n",
    "    'fender', 'gibson', 'yamaha', 'roland', 'korg', 'taylor', 'martin',\n",
    "    'epiphone', 'peavey', 'alvarez', 'casio', 'trumpet', 'saxophone',\n",
    "    'clarinet', 'violin', 'cello', 'flute', 'drum', 'banjo', 'mandolin',\n",
    "    'piano', 'keyboard', 'guitar', 'amp'\n",
    "]\n",
    "\n",
    "data = []\n",
    "\n",
    "for item in listings:\n",
    "    #Title: might be in a <div class=\"title\"> or <h3 class=\"title\">, etc.\n",
    "    #On many Craigslist pages, you can also find it under <a class=\"post-title\"> or <div class=\"title\">\n",
    "    title_div = item.find('div', class_='title')\n",
    "    if not title_div:\n",
    "        #if not found, skip or continue\n",
    "        continue\n",
    "    title_text = title_div.get_text().strip().lower()\n",
    "\n",
    "    #Link (Craigslist typically has <a href=...> for the post link)\n",
    "    link_tag = item.find('a', href=True)\n",
    "    link = link_tag['href'] if link_tag else None\n",
    "    \n",
    "    #Price often in <span class=\"price\"> or <div class=\"price\">\n",
    "    price_div = item.find('div', class_='price')\n",
    "    if price_div:\n",
    "        price_text = price_div.get_text().strip().replace('$','').replace(',','')\n",
    "        try:\n",
    "            price = float(price_text)\n",
    "        except:\n",
    "            price = np.nan\n",
    "    else:\n",
    "        price = np.nan\n",
    "    \n",
    "    #if there's a location, it may be within a <span class=\"nearby\"> or <span class=\"result-hood\">\n",
    "    #This can vary by region or Craigslist changes.\n",
    "    location_span = item.find('span', class_='location')\n",
    "    if location_span:\n",
    "        location = location_span.get_text().strip()\n",
    "    else:\n",
    "        location = None\n",
    "    \n",
    "    #Try to detect brand or instrument type:\n",
    "    words = title_text.split()\n",
    "    hits = [word for word in words if word in brands]\n",
    "    if len(hits) == 0:\n",
    "        brand_instrument = 'other'\n",
    "    else:\n",
    "        brand_instrument = hits[0]  \n",
    "    \n",
    "    #Maybe we also try to see if there's a year mentioned (just for demonstration):\n",
    "    year_search = re.search(r'20[0-9]{2}|19[0-9]{2}', title_text)\n",
    "    if year_search:\n",
    "        year = int(year_search.group(0))\n",
    "    else:\n",
    "        year = np.nan\n",
    "    \n",
    "    data.append({\n",
    "        'title': title_text,\n",
    "        'price': price,\n",
    "        'location': location,\n",
    "        'link': link,\n",
    "        'brand_instrument': brand_instrument,\n",
    "        'year': year\n",
    "    })\n",
    "\n",
    "print(\"Scraped records:\", len(data))\n"
   ]
  },
  {
   "cell_type": "code",
   "execution_count": 98,
   "metadata": {},
   "outputs": [
    {
     "name": "stdout",
     "output_type": "stream",
     "text": [
      "                                               title   price location  \\\n",
      "0          guitar maintenance accessories assortment    30.0     None   \n",
      "1                   ampeg ba-108 bass amp (20 watts)    75.0     None   \n",
      "2  slide guitar package (instructionals, slides, ...    40.0     None   \n",
      "3            martin d35 sunburst with fishman pickup  2800.0     None   \n",
      "4  levy's, dunlop, and generic adjustable guitar ...    25.0     None   \n",
      "5                                 westcreek racer gt   200.0     None   \n",
      "6                     1990 washburn d28 n/s acoustic   350.0     None   \n",
      "7                                     yamaha motif 8   300.0     None   \n",
      "8  eminence ragin cajun 10\" guitar speaker 75w 8ohms    80.0     None   \n",
      "9             -the little big guitar scale handbook-    21.0     None   \n",
      "\n",
      "                                                link brand_instrument    year  \n",
      "0  https://charlottesville.craigslist.org/msg/d/c...           guitar     NaN  \n",
      "1  https://charlottesville.craigslist.org/msg/d/c...              amp     NaN  \n",
      "2  https://charlottesville.craigslist.org/msg/d/c...           guitar     NaN  \n",
      "3  https://charlottesville.craigslist.org/msg/d/c...           martin     NaN  \n",
      "4  https://charlottesville.craigslist.org/msg/d/c...           guitar     NaN  \n",
      "5  https://charlottesville.craigslist.org/msg/d/c...            other     NaN  \n",
      "6  https://charlottesville.craigslist.org/msg/d/c...            other  1990.0  \n",
      "7  https://charlottesville.craigslist.org/msg/d/c...           yamaha     NaN  \n",
      "8  https://charlottesville.craigslist.org/msg/d/g...           guitar     NaN  \n",
      "9  https://charlottesville.craigslist.org/msg/d/d...           guitar     NaN  \n"
     ]
    }
   ],
   "source": [
    "df = pd.DataFrame(data)\n",
    "print(df.head(10))\n"
   ]
  },
  {
   "cell_type": "code",
   "execution_count": 122,
   "metadata": {},
   "outputs": [
    {
     "name": "stdout",
     "output_type": "stream",
     "text": [
      "<class 'pandas.core.frame.DataFrame'>\n",
      "RangeIndex: 128 entries, 0 to 127\n",
      "Data columns (total 7 columns):\n",
      " #   Column            Non-Null Count  Dtype  \n",
      "---  ------            --------------  -----  \n",
      " 0   title             128 non-null    object \n",
      " 1   price             128 non-null    float64\n",
      " 2   location          128 non-null    object \n",
      " 3   link              128 non-null    object \n",
      " 4   brand_instrument  128 non-null    object \n",
      " 5   year              16 non-null     float64\n",
      " 6   age               16 non-null     float64\n",
      "dtypes: float64(3), object(4)\n",
      "memory usage: 7.1+ KB\n"
     ]
    }
   ],
   "source": [
    "df['location'] = df['location'].fillna('missing')\n",
    "df['year'] = pd.to_numeric(df['year'], errors='coerce')\n",
    "\n",
    "df.info()\n"
   ]
  },
  {
   "cell_type": "code",
   "execution_count": 102,
   "metadata": {},
   "outputs": [
    {
     "name": "stdout",
     "output_type": "stream",
     "text": [
      "count     128.000000\n",
      "mean      432.687500\n",
      "std       677.715672\n",
      "min         0.000000\n",
      "25%        50.000000\n",
      "50%       170.000000\n",
      "75%       581.250000\n",
      "max      5000.000000\n",
      "Name: price, dtype: float64\n"
     ]
    },
    {
     "data": {
      "image/png": "[encoded data removed]",
      "text/plain": [
       "<Figure size 640x480 with 1 Axes>"
      ]
     },
     "metadata": {},
     "output_type": "display_data"
    }
   ],
   "source": [
    "print(df['price'].describe())\n",
    "\n",
    "# Quick histogram\n",
    "df['price'].hist(grid=False, bins=10)\n",
    "plt.xlabel('Price')\n",
    "plt.ylabel('Count')\n",
    "plt.title('Histogram of Musical Instrument Prices')\n",
    "plt.show()\n"
   ]
  },
  {
   "cell_type": "code",
   "execution_count": 124,
   "metadata": {},
   "outputs": [
    {
     "name": "stdout",
     "output_type": "stream",
     "text": [
      "                  count         mean          std    min      25%     50%  \\\n",
      "brand_instrument                                                            \n",
      "amp                 4.0    85.000000    36.285902   40.0    66.25    87.5   \n",
      "banjo               2.0  1087.500000  1007.627163  375.0   731.25  1087.5   \n",
      "clarinet            2.0   437.500000   512.652416   75.0   256.25   437.5   \n",
      "drum                3.0  1741.666667  2822.491512   50.0   112.50   175.0   \n",
      "epiphone            1.0   500.000000          NaN  500.0   500.00   500.0   \n",
      "fender             12.0   850.750000   740.925972   50.0   265.00   702.0   \n",
      "gibson              5.0   543.000000   455.653377   40.0    50.00   825.0   \n",
      "guitar             13.0    87.769231   189.255627    0.0     8.00    25.0   \n",
      "mandolin            1.0   675.000000          NaN  675.0   675.00   675.0   \n",
      "martin              4.0   923.750000  1253.630561  195.0   273.75   350.0   \n",
      "other              69.0   318.536232   447.167510    1.0    50.00   150.0   \n",
      "peavey              4.0   495.000000   398.455351   80.0   245.00   450.0   \n",
      "piano               2.0    87.500000   123.743687    0.0    43.75    87.5   \n",
      "taylor              2.0  1425.000000   671.751442  950.0  1187.50  1425.0   \n",
      "trumpet             1.0   100.000000          NaN  100.0   100.00   100.0   \n",
      "yamaha              3.0   250.000000    86.602540  150.0   225.00   300.0   \n",
      "\n",
      "                      75%     max  \n",
      "brand_instrument                   \n",
      "amp                106.25   125.0  \n",
      "banjo             1443.75  1800.0  \n",
      "clarinet           618.75   800.0  \n",
      "drum              2587.50  5000.0  \n",
      "epiphone           500.00   500.0  \n",
      "fender            1212.50  2500.0  \n",
      "gibson             900.00   900.0  \n",
      "guitar              65.00   700.0  \n",
      "mandolin           675.00   675.0  \n",
      "martin            1000.00  2800.0  \n",
      "other              400.00  2800.0  \n",
      "peavey             700.00  1000.0  \n",
      "piano              131.25   175.0  \n",
      "taylor            1662.50  1900.0  \n",
      "trumpet            100.00   100.0  \n",
      "yamaha             300.00   300.0  \n"
     ]
    }
   ],
   "source": [
    "grouped = df.groupby('brand_instrument')['price'].describe()\n",
    "print(grouped)\n"
   ]
  },
  {
   "cell_type": "code",
   "execution_count": 126,
   "metadata": {},
   "outputs": [
    {
     "data": {
      "text/plain": [
       "count    16.000000\n",
       "mean     37.875000\n",
       "std      14.836329\n",
       "min       7.000000\n",
       "25%      28.750000\n",
       "50%      43.500000\n",
       "75%      49.000000\n",
       "max      55.000000\n",
       "Name: age, dtype: float64"
      ]
     },
     "execution_count": 126,
     "metadata": {},
     "output_type": "execute_result"
    }
   ],
   "source": [
    "df['age'] = 2025 - df['year']  \n",
    "df['age'].describe()\n"
   ]
  },
  {
   "cell_type": "code",
   "execution_count": 128,
   "metadata": {},
   "outputs": [
    {
     "data": {
      "image/png": "[encoded data removed]",
      "text/plain": [
       "<Figure size 800x600 with 1 Axes>"
      ]
     },
     "metadata": {},
     "output_type": "display_data"
    }
   ],
   "source": [
    "#Control overall plot size\n",
    "plt.figure(figsize=(8,6))\n",
    "ax = sns.scatterplot(\n",
    "    data=df, \n",
    "    x='age', \n",
    "    y='price', \n",
    "    hue='brand_instrument', \n",
    "     #Marker size\n",
    "    s=60,        \n",
    "    #Transparency\n",
    "    alpha=0.9     \n",
    ")\n",
    "plt.title(\"Price vs. Age of Instrument\")\n",
    "plt.tight_layout()\n",
    "plt.show()\n"
   ]
  },
  {
   "cell_type": "markdown",
   "metadata": {},
   "source": [
    "Overall, the price distribution is heavily right‐skewed, with most instruments listed under a few hundred dollars and only a handful exceeding 1,000 dollars. From the scatter plot relating price to age, it appears that while many older items tend to be lower‐priced, there are a few exceptions, certain vintage guitars or pianos, for instance, list at higher prices even at older ages, suggesting some brands or models retain (or even gain) value over time. Meanwhile, instruments like generic guitars, amplifiers, or clarinets, cluster in a lower price range, often well under 500 dollars. This distinction indicates that certain recognized brand names (Martin, Gibson, etc.) or categories (piano) command a premium compared to lesser‐known or unbranded items. Thus, although the majority of used instruments are relatively affordable, a niche segment of higher‐end or collectible instruments emerges with notably higher asking prices."
   ]
  },
  {
   "cell_type": "code",
   "execution_count": null,
   "metadata": {},
   "outputs": [],
   "source": []
  }
 ],
 "metadata": {
  "colab": {
   "provenance": []
  },
  "kernelspec": {
   "display_name": "Python 3",
   "language": "python",
   "name": "python3"
  },
  "language_info": {
   "codemirror_mode": {
    "name": "ipython",
    "version": 3
   },
   "file_extension": ".py",
   "mimetype": "text/x-python",
   "name": "python",
   "nbconvert_exporter": "python",
   "pygments_lexer": "ipython3",
   "version": "3.12.0"
  }
 },
 "nbformat": 4,
 "nbformat_minor": 4
}
