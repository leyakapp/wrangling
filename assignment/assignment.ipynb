{
  "cells": [
    {
      "cell_type": "markdown",
      "id": "13ad028b-72b7-43ed-aa78-96fd4e518040",
      "metadata": {
        "id": "13ad028b-72b7-43ed-aa78-96fd4e518040"
      },
      "source": [
        "# Assignment: Data Wrangling\n",
        "### `! git clone https://github.com/ds4e/wrangling`\n",
        "### Do Q1 and Q2, and either Q3 or Q4, for a total of 3 questions."
      ]
    },
    {
      "cell_type": "markdown",
      "id": "da879ea7-8aac-48a3-b6c2-daea56d2e072",
      "metadata": {
        "id": "da879ea7-8aac-48a3-b6c2-daea56d2e072"
      },
      "source": [
        "**Q1.** This question provides some practice cleaning variables which have common problems.\n",
        "1. Numeric variable: For `./data/airbnb_hw.csv`, clean the `Price` variable as well as you can, and explain the choices you make. How many missing values do you end up with? (Hint: What happens to the formatting when a price goes over 999 dollars, say from 675 to 1,112?)\n",
        "2. Categorical variable: For the Minnesota police use of for data, `./data/mn_police_use_of_force.csv`, clean the `subject_injury` variable, handling the NA's; this gives a value `Yes` when a person was injured by police, and `No` when no injury occurred. What proportion of the values are missing? Is this a concern? Cross-tabulate your cleaned `subject_injury` variable with the `force_type` variable. Are there any patterns regarding when the data are missing? \n",
        "3. Dummy variable: For the pretrial data covered in the lecture, clean the `WhetherDefendantWasReleasedPretrial` variable as well as you can, and, in particular, replace missing values with `np.nan`.\n",
        "4. Missing values, not at random: For the pretrial data covered in the lecture, clean the `ImposedSentenceAllChargeInContactEvent` variable as well as you can, and explain the choices you make. (Hint: Look at the `SentenceTypeAllChargesAtConvictionInContactEvent` variable.)"
      ]
    },
    {
      "cell_type": "code",
      "execution_count": 72,
      "id": "c04fd85b",
      "metadata": {},
      "outputs": [
        {
          "data": {
            "text/plain": [
              "np.int64(0)"
            ]
          },
          "execution_count": 72,
          "metadata": {},
          "output_type": "execute_result"
        }
      ],
      "source": [
        "#Q1.1\n",
        "\n",
        "import pandas as pd\n",
        "\n",
        "# Load the dataset\n",
        "file_path = \"data/airbnb_hw.csv\"\n",
        "df = pd.read_csv(file_path)\n",
        "\n",
        "# Inspect the first few rows to understand the 'Price' variable format\n",
        "df['Price'].head()\n",
        "# Remove any potential formatting issues, such as commas and extra spaces\n",
        "df['Price'] = df['Price'].astype(str).str.replace(',', '').str.strip()\n",
        "\n",
        "# Convert 'Price' to numeric, coercing errors to NaN\n",
        "df['Price'] = pd.to_numeric(df['Price'], errors='coerce')\n",
        "\n",
        "# Count missing values\n",
        "missing_values = df['Price'].isna().sum()\n",
        "\n",
        "# Display the cleaned dataframe without using ace_tools\n",
        "df[['Price']].head(), df['Price'].isna().sum()\n",
        "\n",
        "missing_values\n",
        "\n",
        "\n"
      ]
    },
    {
      "cell_type": "markdown",
      "id": "794c8cf8",
      "metadata": {},
      "source": [
        "#Q1.1\n",
        "\n",
        "The Price variable was cleaned by:\n",
        "- Removing Commas: Prices over 999 had commas (e.g., \"1,112\"), which needed to be removed to convert the column to a numeric type properly.\n",
        "- Stripping Extra Spaces: Any unnecessary spaces were removed to ensure clean numeric conversion.\n",
        "- Converting to Numeric: The column was converted to a numeric type, coercing any unconvertible values to NaN.\n",
        "\n",
        "After cleaning, the dataset has 0 missing values, indicating that all entries were successfully converted to numeric format. ​"
      ]
    },
    {
      "cell_type": "code",
      "execution_count": 73,
      "id": "f0752f15",
      "metadata": {},
      "outputs": [
        {
          "data": {
            "text/plain": [
              "(np.float64(0.7619342359767892),\n",
              " force_type      Baton  Bodily Force  Chemical Irritant  Firearm  \\\n",
              " subject_injury                                                    \n",
              " No                  2          8144               1552        2   \n",
              " Yes                 2          1286                 41        0   \n",
              " \n",
              " force_type      Gun Point Display  Improvised Weapon  Less Lethal  \\\n",
              " subject_injury                                                      \n",
              " No                             60                108           87   \n",
              " Yes                            44                 40            0   \n",
              " \n",
              " force_type      Less Lethal Projectile  Maximal Restraint Technique  \\\n",
              " subject_injury                                                        \n",
              " No                                   1                          170   \n",
              " Yes                                  2                            0   \n",
              " \n",
              " force_type      Police K9 Bite  Taser  \n",
              " subject_injury                         \n",
              " No                          33   1135  \n",
              " Yes                         44    172  )"
            ]
          },
          "execution_count": 73,
          "metadata": {},
          "output_type": "execute_result"
        }
      ],
      "source": [
        "#Q1.2\n",
        "import pandas as pd\n",
        "\n",
        "# Load the dataset\n",
        "file_path = \"data/mn_police_use_of_force.csv\"\n",
        "df = pd.read_csv(file_path)\n",
        "\n",
        "# Display the first few rows to understand the structure of the data\n",
        "df.head()\n",
        "# Checking the proportion of missing values in 'subject_injury'\n",
        "missing_proportion = df['subject_injury'].isna().mean()\n",
        "\n",
        "# Cleaning the 'subject_injury' column: Replacing NA with \"No\" and standardizing values\n",
        "df['subject_injury'] = df['subject_injury'].fillna(\"No\").apply(lambda x: \"Yes\" if x.strip().lower() == \"yes\" else \"No\")\n",
        "\n",
        "# Cross-tabulate cleaned 'subject_injury' with 'force_type'\n",
        "crosstab = pd.crosstab(df['subject_injury'], df['force_type'])\n",
        "\n",
        "# Display results\n",
        "missing_proportion, crosstab\n",
        "\n"
      ]
    },
    {
      "cell_type": "markdown",
      "id": "66fc4b5e",
      "metadata": {},
      "source": [
        "#Q1.2\n",
        "\n",
        "\n",
        "Approximately **76.19%** of the values in the `subject_injury` variable were missing, which is a significant concern as it suggests potential underreporting or inconsistencies in data collection. To address this, missing values were categorized as `\"No\"` to indicate no reported injury. A cross-tabulation with `force_type` revealed that **bodily force** had the highest number of injuries, while **firearm use** was rare, and **chemical irritants** and **tasers** resulted in fewer recorded injuries. The missing data could introduce bias, potentially underestimating injury rates and affecting the reliability of conclusions about police use of force. Further analysis may be needed to determine if missing values correlate with specific force types or reporting practices."
      ]
    },
    {
      "cell_type": "code",
      "execution_count": 74,
      "id": "05c46021",
      "metadata": {},
      "outputs": [
        {
          "name": "stderr",
          "output_type": "stream",
          "text": [
            "/var/folders/vw/8l_c41_s7kzcypm113vm72ww0000gn/T/ipykernel_65398/527212574.py:25: FutureWarning: Downcasting behavior in `replace` is deprecated and will be removed in a future version. To retain the old behavior, explicitly call `result.infer_objects(copy=False)`. To opt-in to the future behavior, set `pd.set_option('future.no_silent_downcasting', True)`\n",
            "  df['WhetherDefendantWasReleasedPretrial'] = df['WhetherDefendantWasReleasedPretrial'].replace({\n"
          ]
        },
        {
          "data": {
            "text/plain": [
              "array([nan,  0.,  1.])"
            ]
          },
          "execution_count": 74,
          "metadata": {},
          "output_type": "execute_result"
        }
      ],
      "source": [
        "#Q1.3\n",
        "\n",
        "\n",
        "import numpy as np\n",
        "import pandas as pd\n",
        "\n",
        "url = 'http://www.vcsc.virginia.gov/pretrialdataproject/October%202017%20Cohort_Virginia%20Pretrial%20Data%20Project_Deidentified%20FINAL%20Update_10272021.csv'\n",
        "df = pd.read_csv(url, low_memory=False)\n",
        "\n",
        "# Check if 'WhetherDefendantWasReleasedPretrial' exists in the dataset\n",
        "if 'WhetherDefendantWasReleasedPretrial' in df.columns:\n",
        "    # Convert all values to string, handle missing values, and clean whitespace\n",
        "    df['WhetherDefendantWasReleasedPretrial'] = df['WhetherDefendantWasReleasedPretrial'].astype(str).str.strip()\n",
        "\n",
        "    # Replace empty strings and known missing indicators with np.nan\n",
        "    df['WhetherDefendantWasReleasedPretrial'] = df['WhetherDefendantWasReleasedPretrial'].replace({'': np.nan, 'nan': np.nan})\n",
        "\n",
        "    # Display unique values to confirm cleaning\n",
        "    unique_values = df['WhetherDefendantWasReleasedPretrial'].unique()\n",
        "else:\n",
        "    unique_values = \"Column not found in dataset.\"\n",
        "\n",
        "unique_values\n",
        "# Convert the column to numeric, setting \"9\" as NaN\n",
        "df['WhetherDefendantWasReleasedPretrial'] = df['WhetherDefendantWasReleasedPretrial'].replace({\n",
        "    '1': 1,   # Released\n",
        "    '0': 0,   # Not Released\n",
        "    '9': np.nan  # Missing or Unknown\n",
        "}).astype('float')\n",
        "\n",
        "# Check unique values after cleaning\n",
        "df['WhetherDefendantWasReleasedPretrial'].unique()\n"
      ]
    },
    {
      "cell_type": "code",
      "execution_count": 75,
      "id": "4b99481a",
      "metadata": {},
      "outputs": [
        {
          "data": {
            "text/plain": [
              "array([           nan, 6.00000000e+01, 1.20000000e+01, 9.85626283e-01,\n",
              "       3.60000000e+01, 6.00000000e+00, 2.40000000e+01, 5.91375770e+00,\n",
              "       1.20000000e+02, 7.20000000e+01, 1.19917864e+01, 0.00000000e+00,\n",
              "       2.95687885e+00, 8.40000000e+01, 1.08000000e+02, 3.00000000e+02,\n",
              "       2.40000000e+02, 1.80000000e+02, 4.00000000e+00, 9.60000000e+01,\n",
              "       2.00000000e+00, 5.40000000e+01, 3.28542094e-01, 4.40000000e+01,\n",
              "       5.00000000e+00, 1.15000000e+02, 1.32000000e+02, 4.80000000e+01,\n",
              "       2.58000000e+02, 3.40000000e+01, 7.60000000e+01, 1.64271047e-01,\n",
              "       1.31416838e-01, 1.11000000e+02, 9.00000000e+00, 3.00000000e+00,\n",
              "       1.97125257e+00, 3.69856263e+01, 6.57084189e-02, 3.54928131e+01,\n",
              "       1.06492813e+02, 8.00000000e+00, 3.50000000e+01, 1.83141684e+01,\n",
              "       4.80000000e+02, 3.20000000e+01, 9.30000000e+01, 2.34000000e+02,\n",
              "       7.32000000e+02, 1.16427105e+00, 4.65708419e+00, 2.10000000e+01,\n",
              "       7.00000000e+00, 4.49281314e+00, 1.80000000e+01, 6.00000000e+02,\n",
              "       4.31642710e+01, 1.79000000e+02, 5.20000000e+01, 3.00000000e+01,\n",
              "       2.00000000e+01, 1.92000000e+02, 7.02000000e+02, 1.40000000e+01,\n",
              "       5.50000000e+01, 5.30000000e+01, 1.19055441e+01, 1.14000000e+02,\n",
              "       3.50061602e+01, 6.80000000e+01, 6.57084189e-01, 4.66242300e+01,\n",
              "       1.02000000e+02, 6.50000000e+01, 2.00000000e+02, 5.70000000e+01,\n",
              "       2.43285421e+01, 1.21642710e+01, 1.17000000e+02, 8.14928131e+01,\n",
              "       2.24928131e+01, 1.98000000e+03, 3.65708419e+00, 5.60000000e+01,\n",
              "       1.00000000e+01, 2.79260780e+00, 1.00000000e+00, 4.70000000e+01,\n",
              "       2.20000000e+01, 1.50000000e+03, 4.00000000e+01, 2.84000000e+02,\n",
              "       1.10000000e+01, 1.18000000e+02, 4.20000000e+01, 1.62000000e+02,\n",
              "       1.56000000e+02, 4.72956879e+01, 1.05000000e+02, 5.10000000e+01,\n",
              "       2.46000000e+02, 2.90000000e+01, 7.50000000e+01, 3.24000000e+02,\n",
              "       3.60000000e+02, 3.44804928e+01, 1.20328542e+02, 5.99260780e+01,\n",
              "       6.60000000e+01, 5.99917864e+01, 6.60000000e+02, 5.11642710e+01,\n",
              "       1.49568789e+01, 3.98562628e+00, 7.80000000e+01, 2.28000000e+02,\n",
              "       1.47843943e+00, 6.20000000e+01, 4.80000000e+00, 8.60000000e+01,\n",
              "       1.68000000e+02, 2.30000000e+01, 3.30000000e+01, 4.80328542e+01,\n",
              "       7.20000000e+02, 3.48000000e+02, 1.20000000e+03, 2.70000000e+01,\n",
              "       4.90000000e+01, 8.70000000e+01, 4.20000000e+02, 6.30000000e+01,\n",
              "       7.99260780e+01, 5.70349076e+01, 4.99712526e+01, 5.94928131e+01,\n",
              "       1.70000000e+01, 2.38492813e+02, 6.09856263e+01, 1.26000000e+02,\n",
              "       4.50000000e+01, 1.58000000e+02, 2.16000000e+02, 2.27000000e+02,\n",
              "       4.29568789e+01, 4.45000000e+02, 7.09527721e+01, 5.16000000e+02,\n",
              "       1.77821355e+02, 1.75200000e+03, 9.00000000e+01, 1.08000000e+03,\n",
              "       1.41000000e+02, 4.82956879e+00, 2.30000000e+02, 3.10000000e+01,\n",
              "       2.20800000e+03, 5.25133470e+01, 6.90000000e+01, 2.60000000e+01,\n",
              "       3.34928131e+01, 1.40000000e+02, 1.31000000e+02, 3.44000000e+02,\n",
              "       2.19000000e+02, 1.01000000e+02, 7.10000000e+01, 5.90000000e+01,\n",
              "       5.80000000e+01, 1.20197125e+02, 6.70000000e+01, 3.54004107e+01,\n",
              "       3.28542094e+00, 4.01642710e+01, 9.10000000e+01, 1.77412731e+00,\n",
              "       1.55000000e+02, 3.44928131e+01, 8.10000000e+01, 9.23285421e+01,\n",
              "       3.54825462e+00, 2.07000000e+02, 7.40000000e+01, 5.18000000e+02,\n",
              "       2.80000000e+01, 8.95687885e+00, 2.37000000e+02, 4.04673511e+02,\n",
              "       1.81642710e+01, 1.07433265e+01, 5.51000000e+02, 3.90000000e+01,\n",
              "       1.50000000e+01, 1.24000000e+02, 4.30000000e+01, 1.76000000e+02,\n",
              "       1.94928131e+01, 4.82000000e+02, 1.29000000e+02, 8.80000000e+01,\n",
              "       4.60000000e+01, 4.58542094e+01, 1.28628337e+02, 1.36492813e+02,\n",
              "       1.08328542e+02, 5.00000000e+01, 3.63663244e+02, 2.88000000e+02,\n",
              "       2.50000000e+02, 1.07000000e+02, 8.10225873e+01, 4.44000000e+02,\n",
              "       2.05000000e+02, 1.06570842e+01, 1.90000000e+01, 6.69856263e+01,\n",
              "       3.84928131e+01, 2.64000000e+02, 2.76000000e+02, 1.73000000e+02,\n",
              "       2.22000000e+02, 1.44000000e+02, 2.94000000e+02, 3.36000000e+02,\n",
              "       4.31000000e+02, 4.50000000e+02, 7.30000000e+01, 9.93285421e+01,\n",
              "       1.28000000e+02, 3.08069815e+01, 3.15256674e+01, 1.27000000e+02,\n",
              "       2.02000000e+02, 5.53285421e+01, 8.90000000e+01, 2.42000000e+02,\n",
              "       1.31416838e+00, 1.02900000e+03, 7.88501027e-01, 1.94858316e+02,\n",
              "       3.99000000e+02, 3.96570842e+01, 5.69568789e+01, 1.98000000e+02,\n",
              "       1.20985626e+02, 4.76570842e+01, 1.48000000e+02, 6.89938398e+00,\n",
              "       6.53285421e+01, 5.95277207e+00, 9.85626283e-02, 3.32854209e+00,\n",
              "       3.94250513e+00, 1.29856263e+01, 6.98562628e+00, 1.31498973e+01,\n",
              "       1.51642710e+01, 1.71971253e+01, 1.79137577e+01, 1.04000000e+02,\n",
              "       2.12000000e+02, 2.46570842e+01, 7.26570842e+01, 2.98562628e+00,\n",
              "       1.44985626e+02, 3.19712526e+01, 1.83000000e+02, 4.98562628e+00,\n",
              "       1.18213552e+01, 2.52000000e+02, 1.23942505e+01, 4.24928131e+01,\n",
              "       1.01642710e+01, 1.11642710e+01, 5.49281314e+00, 5.96632444e+01,\n",
              "       1.23285421e+01, 4.89856263e+01, 2.40985626e+02, 2.65708419e+00,\n",
              "       5.40000000e+02, 2.97125257e+00, 6.32854209e+00, 2.36632444e+01,\n",
              "       1.33657084e+02, 3.53285421e+01, 4.56000000e+02, 1.03000000e+02,\n",
              "       1.72279261e+00, 1.26570842e+01, 1.16570842e+01, 6.03285421e+01,\n",
              "       3.78850103e+00, 5.76000000e+02, 2.13141684e+00, 4.92000000e+02,\n",
              "       1.49856263e+01, 2.49856263e+01, 6.19712526e+01, 5.65708419e+00,\n",
              "       1.60000000e+01, 4.21642710e+01, 4.92813142e-01, 1.38000000e+02,\n",
              "       1.33141684e+01, 1.18932238e+01, 5.32854209e+00, 9.50000000e+01,\n",
              "       6.26570842e+01, 3.08829569e+00, 1.18275154e+01, 1.64271047e+00,\n",
              "       4.79917864e+01, 4.27104723e+00, 8.32854209e+00, 3.31416838e+00,\n",
              "       7.00000000e+01, 7.70000000e+01, 1.09856263e+00, 4.81642710e+01,\n",
              "       2.74928131e+01, 6.93839836e+00, 1.01100000e+03, 6.89938398e-01,\n",
              "       1.11704312e+00, 1.49281314e+00, 4.16427105e+00, 1.19712526e+00,\n",
              "       4.07392197e+00, 1.88000000e+02, 1.13285421e+01, 3.28542094e-02,\n",
              "       4.32000000e+02, 1.19527721e+01, 3.64928131e+01, 2.39835729e+01,\n",
              "       9.98562628e+00, 9.80000000e+01, 3.63285421e+01, 1.12000000e+02,\n",
              "       3.94250513e-01, 1.30000000e+01, 2.62833676e-01, 1.37987680e+01,\n",
              "       5.88706366e+00, 3.54000000e+02, 5.91991786e+00, 2.41642710e+01,\n",
              "       6.29568789e+01, 4.59958932e+00, 1.23000000e+02, 2.32854209e+00,\n",
              "       2.39240246e+01, 2.04000000e+02, 1.97000000e+02, 1.74000000e+02,\n",
              "       1.61498973e+01, 8.40000000e+02, 4.40000000e+02, 9.89568788e+01,\n",
              "       1.79527721e+01, 6.39425051e+01, 6.01314168e+01, 1.21314168e+01,\n",
              "       1.72952772e+02, 1.97125257e-01, 1.38164271e+02, 4.92813142e+00,\n",
              "       9.19917864e-01, 1.89856263e+01, 6.65708419e+00, 2.85420945e+00,\n",
              "       8.91375770e+00, 1.46000000e+02, 1.24928131e+01, 5.58521561e-01,\n",
              "       7.22792608e-01, 5.82135524e+00, 8.49856263e+01, 6.16427105e+00,\n",
              "       1.59856263e+01, 6.45585216e+01, 3.82997947e+01, 1.19589322e+01,\n",
              "       3.12114990e+00, 1.26328542e+02, 5.16427105e+00, 6.40000000e+01,\n",
              "       4.26570842e+01, 3.12000000e+02, 1.99712526e+01, 8.23285421e+01,\n",
              "       2.39712526e+01, 1.76242300e+01, 1.21971253e+02, 5.96550308e+01,\n",
              "       1.32854209e+00, 7.97125257e+00, 1.91991786e+00, 5.25667351e-01,\n",
              "       9.32854209e+00, 4.29856263e+01, 4.19137577e+01, 7.29856263e+01,\n",
              "       1.24784394e+01, 5.19096509e+00, 4.73000000e+02, 1.66570842e+01,\n",
              "       1.09000000e+02, 8.63285421e+01, 4.10000000e+01, 1.90554415e+00,\n",
              "       9.41642710e+01, 3.02000000e+02, 4.39425051e+00, 1.08213552e+01,\n",
              "       1.83285421e+01, 1.54000000e+02, 8.30000000e+01, 1.10956879e+02,\n",
              "       2.26000000e+02, 9.60328542e+01, 4.82135524e+00, 3.03285421e+01,\n",
              "       3.79712526e+01, 5.04640657e+01, 2.86000000e+02, 9.90000000e+01,\n",
              "       9.94928131e+01, 2.66119097e+00, 7.09712526e+01, 1.39712526e+01,\n",
              "       2.36570842e+01, 4.59958932e-01, 1.32492813e+02, 2.83000000e+02,\n",
              "       4.93141684e+01, 2.79856263e+01, 3.80000000e+01, 7.65708419e+00,\n",
              "       8.36550308e+01, 1.09199179e+01, 1.62328542e+02, 3.70000000e+01,\n",
              "       1.32328542e+02, 3.59527721e+01, 1.65000000e+02, 1.09856263e+01,\n",
              "       2.01642710e+01, 2.59137577e+00, 1.75000000e+02, 1.80985626e+02,\n",
              "       1.03285421e+01, 3.61642710e+01, 1.20657084e+02, 2.32000000e+02,\n",
              "       1.52000000e+02, 8.98562628e+00, 1.67000000e+02, 1.10657084e+01,\n",
              "       1.12032854e+01, 5.19712526e+00, 3.16427105e+00, 6.01642710e+01,\n",
              "       1.18275154e+00, 2.11642710e+01, 2.19712526e+00, 4.19712526e+00,\n",
              "       2.62833676e+00, 1.19952772e+02, 1.19958932e+02, 9.49281314e+00,\n",
              "       5.25667351e+00, 1.53285421e+01, 2.82135524e+00, 1.92985626e+02,\n",
              "       4.86570842e+01, 5.95687885e+00, 2.29979466e+00, 9.60000000e+02,\n",
              "       2.36550308e+00, 1.16000000e+02, 1.95133470e+01, 1.65708419e+00])"
            ]
          },
          "execution_count": 75,
          "metadata": {},
          "output_type": "execute_result"
        }
      ],
      "source": [
        "#Q1.4\n",
        "# Check if 'ImposedSentenceAllChargeInContactEvent' exists in the dataset\n",
        "if 'ImposedSentenceAllChargeInContactEvent' in df.columns and 'SentenceTypeAllChargesAtConvictionInContactEvent' in df.columns:\n",
        "    # Inspect unique values in both columns before cleaning\n",
        "    imposed_sentence_unique = df['ImposedSentenceAllChargeInContactEvent'].unique()\n",
        "    sentence_type_unique = df['SentenceTypeAllChargesAtConvictionInContactEvent'].unique()\n",
        "\n",
        "    # Replace empty strings or obvious placeholders with NaN in 'ImposedSentenceAllChargeInContactEvent'\n",
        "    df['ImposedSentenceAllChargeInContactEvent'] = df['ImposedSentenceAllChargeInContactEvent'].replace({'': np.nan, 'nan': np.nan})\n",
        "\n",
        "    # Examine the relationship between missing 'ImposedSentenceAllChargeInContactEvent' and 'SentenceTypeAllChargesAtConvictionInContactEvent'\n",
        "    missing_correlation = df[df['ImposedSentenceAllChargeInContactEvent'].isna()]['SentenceTypeAllChargesAtConvictionInContactEvent'].value_counts()\n",
        "else:\n",
        "    imposed_sentence_unique = \"Column not found in dataset.\"\n",
        "    sentence_type_unique = \"Column not found in dataset.\"\n",
        "    missing_correlation = \"Column not found in dataset.\"\n",
        "\n",
        "# Convert empty strings and placeholder values to NaN\n",
        "df['ImposedSentenceAllChargeInContactEvent'] = df['ImposedSentenceAllChargeInContactEvent'].replace({' ': np.nan}).astype(float)\n",
        "\n",
        "# Identify cases where missing data aligns with Sentence Type 4 and 9\n",
        "df.loc[df['SentenceTypeAllChargesAtConvictionInContactEvent'] == 4, 'ImposedSentenceAllChargeInContactEvent'] = np.nan\n",
        "df.loc[df['SentenceTypeAllChargesAtConvictionInContactEvent'] == 9, 'ImposedSentenceAllChargeInContactEvent'] = np.nan\n",
        "\n",
        "# Display unique values after cleaning\n",
        "df['ImposedSentenceAllChargeInContactEvent'].unique()\n"
      ]
    },
    {
      "cell_type": "markdown",
      "id": "821a3b83",
      "metadata": {},
      "source": [
        "#Q1.4\n",
        "\n",
        "The cleaning process for the **\"ImposedSentenceAllChargeInContactEvent\"** variable focused on handling missing values, standardizing data, and ensuring consistency with the **\"SentenceTypeAllChargesAtConvictionInContactEvent\"** variable. Initially, empty strings and placeholders such as `' '` and `'nan'` were replaced with `NaN` to properly identify missing values. The relationship between missing imposed sentences and sentence types was examined, revealing that missing values were **not random**, they strongly aligned with sentence types **4 and 9**, which likely indicate cases where no sentence was imposed (e.g., dismissals, acquittals, or diversions). To maintain consistency, all entries associated with these sentence types were explicitly set to `NaN`, preventing misinterpretation of missing data as valid numerical values. Finally, the column was converted to a float type to ensure proper numerical analysis. This approach helps preserve data integrity while making it easier to analyze sentencing patterns."
      ]
    },
    {
      "cell_type": "markdown",
      "id": "5a60a44e",
      "metadata": {},
      "source": [
        "**Q2.** Go to https://sharkattackfile.net/ and download their dataset on shark attacks.\n",
        "\n",
        "1. Open the shark attack file using Pandas. It is probably not a csv file, so `read_csv` won't work.\n",
        "2. Drop any columns that do not contain data.\n",
        "3. Clean the year variable. Describe the range of values you see. Filter the rows to focus on attacks since 1940. Are attacks increasing, decreasing, or remaining constant over time?\n",
        "4. Clean the Age variable and make a histogram of the ages of the victims.\n",
        "5. What proportion of victims are male?\n",
        "6. Clean the `Type` variable so it only takes three values: Provoked and Unprovoked and Unknown. What proportion of attacks are unprovoked?\n",
        "7. Clean the `Fatal Y/N` variable so it only takes three values: Y, N, and Unknown.\n",
        "8. Are sharks more likely to launch unprovoked attacks on men or women? Is the attack more or less likely to be fatal when the attack is provoked or unprovoked? Is it more or less likely to be fatal when the victim is male or female? How do you feel about sharks?\n",
        "9. What proportion of attacks appear to be by white sharks? (Hint: `str.split()` makes a vector of text values into a list of lists, split by spaces.)"
      ]
    },
    {
      "cell_type": "code",
      "execution_count": 76,
      "id": "9dea1a33",
      "metadata": {},
      "outputs": [
        {
          "name": "stdout",
          "output_type": "stream",
          "text": [
            "Year range: 0.0 to 2026.0\n"
          ]
        },
        {
          "data": {
            "image/png": "[encoded data removed]",
            "text/plain": [
              "<Figure size 1000x500 with 1 Axes>"
            ]
          },
          "metadata": {},
          "output_type": "display_data"
        },
        {
          "data": {
            "image/png": "[encoded data removed]",
            "text/plain": [
              "<Figure size 800x500 with 1 Axes>"
            ]
          },
          "metadata": {},
          "output_type": "display_data"
        },
        {
          "name": "stdout",
          "output_type": "stream",
          "text": [
            "Proportion of male victims: 85.85%\n",
            "Proportion of unprovoked attacks: 74.29%\n",
            "Renamed 'fatal y/n' → 'fatal_y/n'\n",
            "Unprovoked attacks: 3311 on males, 600 on females\n",
            "Fatal provoked attacks: 13, Fatal unprovoked attacks: 679\n",
            "Fatal attacks on males: 648, Fatal attacks on females: 87\n",
            "Proportion of attacks by white sharks: 12.88%\n"
          ]
        }
      ],
      "source": [
        "import pandas as pd\n",
        "import matplotlib.pyplot as plt\n",
        "\n",
        "# Load the Excel file (older .xls format)\n",
        "file_path = \"data/GSAF5.xls\"\n",
        "df = pd.read_excel(file_path, engine=\"xlrd\")\n",
        "\n",
        "# 1. Drop columns that do not contain data\n",
        "df = df.dropna(axis=1, how=\"all\")\n",
        "\n",
        "# 2. Standardize column names (lowercase and stripped of spaces)\n",
        "df.columns = df.columns.str.strip().str.lower()\n",
        "\n",
        "# 3. Clean the Year variable\n",
        "df[\"year\"] = pd.to_numeric(df[\"year\"], errors=\"coerce\")\n",
        "print(f\"Year range: {df['year'].min()} to {df['year'].max()}\")\n",
        "\n",
        "# Filter attacks since 1940\n",
        "df = df[df[\"year\"] >= 1940]\n",
        "\n",
        "# Check trend of attacks over time\n",
        "attacks_per_year = df.groupby(\"year\").size()\n",
        "plt.figure(figsize=(10, 5))\n",
        "plt.plot(attacks_per_year.index, attacks_per_year.values, marker=\"o\", linestyle=\"-\")\n",
        "plt.xlabel(\"Year\")\n",
        "plt.ylabel(\"Number of Attacks\")\n",
        "plt.title(\"Shark Attacks Over Time (Since 1940)\")\n",
        "plt.show()\n",
        "\n",
        "# 4. Clean the Age variable and plot histogram\n",
        "df[\"age\"] = pd.to_numeric(df[\"age\"], errors=\"coerce\")\n",
        "plt.figure(figsize=(8, 5))\n",
        "plt.hist(df[\"age\"].dropna(), bins=15, edgecolor=\"black\")\n",
        "plt.xlabel(\"Age of Victim\")\n",
        "plt.ylabel(\"Count\")\n",
        "plt.title(\"Distribution of Victims' Ages\")\n",
        "plt.show()\n",
        "\n",
        "# 5. Proportion of male victims\n",
        "df[\"sex\"] = df[\"sex\"].str.strip().str.upper()\n",
        "male_victims = df[\"sex\"].value_counts().get(\"M\", 0)\n",
        "total_victims = df[\"sex\"].notna().sum()\n",
        "print(f\"Proportion of male victims: {male_victims / total_victims:.2%}\")\n",
        "\n",
        "# 6. Clean 'type' variable (Provoked, Unprovoked, Unknown)\n",
        "df[\"type\"] = df[\"type\"].str.strip().str.capitalize()\n",
        "df[\"type\"] = df[\"type\"].apply(lambda x: x if x in [\"Provoked\", \"Unprovoked\"] else \"Unknown\")\n",
        "unprovoked_attacks = df[\"type\"].value_counts().get(\"Unprovoked\", 0)\n",
        "print(f\"Proportion of unprovoked attacks: {unprovoked_attacks / len(df):.2%}\")\n",
        "\n",
        "# 7. Standardizing 'fatal y/n' column\n",
        "fatal_col = [col for col in df.columns if \"fatal\" in col]\n",
        "if fatal_col:\n",
        "    df.rename(columns={fatal_col[0]: \"fatal_y/n\"}, inplace=True)\n",
        "    print(f\"Renamed '{fatal_col[0]}' → 'fatal_y/n'\")\n",
        "else:\n",
        "    print(\"Fatal column not found!\")\n",
        "\n",
        "df[\"fatal_y/n\"] = df[\"fatal_y/n\"].str.strip().str.upper()\n",
        "df[\"fatal_y/n\"] = df[\"fatal_y/n\"].apply(lambda x: x if x in [\"Y\", \"N\"] else \"Unknown\")\n",
        "\n",
        "# 8. Analyzing unprovoked attacks by gender and fatality rate\n",
        "unprovoked = df[df[\"type\"] == \"Unprovoked\"]\n",
        "male_unprovoked = unprovoked[\"sex\"].value_counts().get(\"M\", 0)\n",
        "female_unprovoked = unprovoked[\"sex\"].value_counts().get(\"F\", 0)\n",
        "print(f\"Unprovoked attacks: {male_unprovoked} on males, {female_unprovoked} on females\")\n",
        "\n",
        "# 9. Fatality rate for provoked vs. unprovoked attacks\n",
        "fatal_provoked = df[df[\"type\"] == \"Provoked\"][\"fatal_y/n\"].value_counts().get(\"Y\", 0)\n",
        "fatal_unprovoked = df[df[\"type\"] == \"Unprovoked\"][\"fatal_y/n\"].value_counts().get(\"Y\", 0)\n",
        "print(f\"Fatal provoked attacks: {fatal_provoked}, Fatal unprovoked attacks: {fatal_unprovoked}\")\n",
        "\n",
        "# 10. Fatality rate for male vs. female victims\n",
        "fatal_male = df[df[\"sex\"] == \"M\"][\"fatal_y/n\"].value_counts().get(\"Y\", 0)\n",
        "fatal_female = df[df[\"sex\"] == \"F\"][\"fatal_y/n\"].value_counts().get(\"Y\", 0)\n",
        "print(f\"Fatal attacks on males: {fatal_male}, Fatal attacks on females: {fatal_female}\")\n",
        "\n",
        "# 11. Proportion of attacks by white sharks\n",
        "df[\"species\"] = df[\"species\"].str.lower().str.strip()\n",
        "white_shark_attacks = df[df[\"species\"].str.contains(\"white\", na=False)].shape[0]\n",
        "print(f\"Proportion of attacks by white sharks: {white_shark_attacks / len(df):.2%}\")\n"
      ]
    },
    {
      "cell_type": "markdown",
      "id": "d78f35af",
      "metadata": {},
      "source": [
        "The dataset on shark attacks reveals several notable trends. The majority of victims are male, accounting for **85.85%** of cases, which suggests that men may be more likely to engage in activities that put them at risk, such as surfing or diving. Additionally, **74.29%** of attacks are unprovoked, indicating that most incidents occur without human interference, rather than as a response to provocation. Among unprovoked attacks, men are significantly more affected than women, with **3,311** cases involving male victims compared to **600** involving female victims.  \n",
        "\n",
        "When examining the fatality rates, unprovoked attacks are more likely to be fatal than provoked ones, with **679 fatal unprovoked attacks** compared to only **13 fatal provoked attacks**. This suggests that provoked attacks may often involve smaller sharks or situations where the victim has a chance to react and defend themselves. Additionally, male victims experience a much higher number of fatal attacks (**648 cases**) compared to female victims (**87 cases**), reinforcing the idea that men’s exposure to shark-prone environments contributes to higher risk.  \n",
        "\n",
        " **12.88%** of recorded attacks involve white sharks, making them one of the most frequently identified species in incidents. Given their reputation as apex predators, this aligns with existing research on their hunting behavior and their encounters with humans in coastal waters. While these statistics may reinforce fears of shark attacks, it is important to remember that shark-related fatalities are rare compared to other risks in ocean environments. Instead of fearing sharks, a better approach is to understand their behavior and take necessary precautions when entering their habitat."
      ]
    },
    {
      "cell_type": "markdown",
      "id": "5735a4d4-8be8-433a-a351-70eb8002e632",
      "metadata": {
        "id": "5735a4d4-8be8-433a-a351-70eb8002e632"
      },
      "source": [
        "**Q3.** Open the \"tidy_data.pdf\" document in the repo, which is a paper called Tidy Data by Hadley Wickham.\n",
        "\n",
        "  1. Read the abstract. What is this paper about?\n",
        "  2. Read the introduction. What is the \"tidy data standard\" intended to accomplish?\n",
        "  3. Read the intro to section 2. What does this sentence mean: \"Like families, tidy datasets are all alike but every messy dataset is messy in its own way.\" What does this sentence mean: \"For a given dataset, it’s usually easy to figure out what are observations and what are variables, but it is surprisingly difficult to precisely define variables and observations in general.\"\n",
        "  4. Read Section 2.2. How does Wickham define values, variables, and observations?\n",
        "  5. How is \"Tidy Data\" defined in section 2.3?\n",
        "  6. Read the intro to Section 3 and Section 3.1. What are the 5 most common problems with messy datasets? Why are the data in Table 4 messy? What is \"melting\" a dataset?\n",
        "  7. Why, specifically, is table 11 messy but table 12 tidy and \"molten\"?\n",
        "  8. Read Section 6. What is the \"chicken-and-egg\" problem with focusing on tidy data? What does Wickham hope happens in the future with further work on the subject of data wrangling?"
      ]
    },
    {
      "cell_type": "markdown",
      "id": "8fac0d0f",
      "metadata": {},
      "source": [
        "Q3 Response: \n",
        "\n",
        "1. The paper *Tidy Data* by Hadley Wickham focuses on the challenges of data cleaning, specifically data tidying. It introduces a structured approach where each variable is a column, each observation is a row, and each type of observational unit is a table. This framework simplifies data manipulation, modeling, and visualization, making data analysis more efficient.\n",
        "\n",
        "2. The \"tidy data standard\" is designed to provide a consistent way of organizing data to make initial data cleaning easier, facilitate exploration, and simplify the development of data analysis tools. By following this standard, analysts can avoid the need for constant data reformatting and ensure compatibility between tools.\n",
        "\n",
        "3. The sentence \"Like families, tidy datasets are all alike but every messy dataset is messy in its own way\" means that tidy datasets follow a consistent structure, whereas messy datasets can have a wide variety of disorganized formats. The sentence \"For a given dataset, it’s usually easy to figure out what are observations and what are variables, but it is surprisingly difficult to precisely define variables and observations in general\" highlights that while specific cases of variables and observations are straightforward, there is no universal rule that applies to all datasets due to differences in data context and structure.\n",
        "\n",
        "4. Wickham defines values as individual data points that belong to variables and observations. A variable consists of all values that measure the same attribute across different units, such as height or temperature. An observation is a set of values corresponding to a single unit of analysis, such as a person or a day.\n",
        "\n",
        "5. \"Tidy Data\" is defined as a dataset where each variable forms a column, each observation forms a row, and each type of observational unit forms a table. This definition aligns with Codd’s third normal form in relational databases but is framed in statistical language to support data analysis.\n",
        "\n",
        "6. The five most common problems with messy datasets are: (1) column headers containing values instead of variable names, (2) multiple variables stored in one column, (3) variables stored in both rows and columns, (4) multiple types of observational units stored in the same table, and (5) a single observational unit stored across multiple tables. The data in Table 4 is messy because income levels are stored as column headers instead of being a single variable. \"Melting\" a dataset refers to transforming a wide dataset into a long format by converting multiple columns into key-value pairs, making the data more structured and analyzable.\n",
        "\n",
        "7. Table 11 is messy because it stores variables in both rows and columns, making it difficult to analyze. Table 12 is tidy and \"molten\" because it restructures the dataset so that each row represents a single observation, with separate columns for each variable (date, temperature type, and value).\n",
        "\n",
        "8. The \"chicken-and-egg\" problem with tidy data is that its usefulness depends on the availability of tools that support it, but developing such tools requires a standardized data structure. Wickham hopes that future research will continue to refine data tidying strategies, improve usability through human-centered design approaches, and explore alternative data structures, such as multidimensional arrays, to optimize memory usage and performance."
      ]
    },
    {
      "cell_type": "markdown",
      "id": "649494cd-cfd6-4f80-992a-9994fc19e1d5",
      "metadata": {
        "id": "649494cd-cfd6-4f80-992a-9994fc19e1d5"
      },
      "source": [
        "**Q4.** Many important datasets contain a race variable, typically limited to a handful of values often including Black, White, Asian, Latino, and Indigenous. This question looks at data gathering efforts on this variable by the U.S. Federal government.\n",
        "\n",
        "1. How did the most recent US Census gather data on race?\n",
        "2. Why do we gather these data? What role do these kinds of data play in politics and society? Why does data quality matter?\n",
        "3. Please provide a constructive criticism of how the Census was conducted: What was done well? What do you think was missing? How should future large scale surveys be adjusted to best reflect the diversity of the population? Could some of the Census' good practices be adopted more widely to gather richer and more useful data?\n",
        "4. How did the Census gather data on sex and gender? Please provide a similar constructive criticism of their practices.\n",
        "5. When it comes to cleaning data, what concerns do you have about protected characteristics like sex, gender, sexual identity, or race? What challenges can you imagine arising when there are missing values? What good or bad practices might people adopt, and why?\n",
        "6. Suppose someone invented an algorithm to impute values for protected characteristics like race, gender, sex, or sexuality. What kinds of concerns would you have?"
      ]
    }
  ],
  "metadata": {
    "colab": {
      "provenance": []
    },
    "kernelspec": {
      "display_name": "Python 3 (ipykernel)",
      "language": "python",
      "name": "python3"
    },
    "language_info": {
      "codemirror_mode": {
        "name": "ipython",
        "version": 3
      },
      "file_extension": ".py",
      "mimetype": "text/x-python",
      "name": "python",
      "nbconvert_exporter": "python",
      "pygments_lexer": "ipython3",
      "version": "3.12.0"
    }
  },
  "nbformat": 4,
  "nbformat_minor": 5
}
